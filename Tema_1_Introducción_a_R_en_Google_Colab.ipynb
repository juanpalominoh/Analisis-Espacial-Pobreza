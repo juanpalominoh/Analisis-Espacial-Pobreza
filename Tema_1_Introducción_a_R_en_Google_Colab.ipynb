{
  "nbformat": 4,
  "nbformat_minor": 0,
  "metadata": {
    "colab": {
      "provenance": [],
      "collapsed_sections": [
        "zUWju_7u9CEr",
        "8os90iCc992g",
        "0rZBji6a-osu",
        "jJgC3BcX-1eb",
        "mFx-qulN-8et",
        "N8UIgYqo_Wsd",
        "Z_Q4bGXI_Zha",
        "yWmh1BzkA-gm",
        "CAUMBXNKBUYl",
        "0UkqIgc9BY5Y",
        "_7MowKf5DvQu",
        "HKD4NnvdDhhd"
      ],
      "authorship_tag": "ABX9TyPkzNfVRaITx+aUqjmNU1tp",
      "include_colab_link": true
    },
    "kernelspec": {
      "name": "ir",
      "display_name": "R"
    },
    "language_info": {
      "name": "R"
    }
  },
  "cells": [
    {
      "cell_type": "markdown",
      "metadata": {
        "id": "view-in-github",
        "colab_type": "text"
      },
      "source": [
        "<a href=\"https://colab.research.google.com/github/juanpalominoh/Analisis-Espacial-Pobreza/blob/main/Tema_1_Introducci%C3%B3n_a_R_en_Google_Colab.ipynb\" target=\"_parent\"><img src=\"https://colab.research.google.com/assets/colab-badge.svg\" alt=\"Open In Colab\"/></a>"
      ]
    },
    {
      "cell_type": "markdown",
      "source": [
        "# Tema 1: Introducción a R en Google Colab"
      ],
      "metadata": {
        "id": "R15wQpcw1BTf"
      }
    },
    {
      "cell_type": "markdown",
      "source": [
        "Para usar R en Google Colab es importante darle el formato adecuado. Ir al siguiente URL: https://colab.research.google.com/#create=true&language=r"
      ],
      "metadata": {
        "id": "omAKBjjB1Oow"
      }
    },
    {
      "cell_type": "markdown",
      "source": [
        "## I. Opciones de ayuda e instalación de paquetes"
      ],
      "metadata": {
        "id": "yHqhXdFC2PhA"
      }
    },
    {
      "cell_type": "code",
      "source": [
        "# 1. Pedir ayuda \n",
        "help(lm)\n",
        "?lm"
      ],
      "metadata": {
        "id": "buZ5z3Cc2OlP"
      },
      "execution_count": null,
      "outputs": []
    },
    {
      "cell_type": "code",
      "execution_count": null,
      "metadata": {
        "id": "sNInV30PzaA3"
      },
      "outputs": [],
      "source": [
        "# 2. Instalar paquetes\n",
        "install.packages(\"plm\")\n",
        "#Cada vez que se instale un paquete es necesario llamar la librería\n",
        "library(\"plm\")"
      ]
    },
    {
      "cell_type": "code",
      "source": [
        "# 2.1 Ayuda (no necesariamente conectado a internet)\n",
        "help(plm)\n",
        "?plm"
      ],
      "metadata": {
        "id": "1ep0BR_j2iod"
      },
      "execution_count": null,
      "outputs": []
    },
    {
      "cell_type": "code",
      "source": [
        "# 2.2 Con caracteres especiales es necesario que vaya \"\"\n",
        "help(\"plm\")\n",
        "help(\"*\")"
      ],
      "metadata": {
        "id": "cFa1pmh3299P"
      },
      "execution_count": null,
      "outputs": []
    },
    {
      "cell_type": "code",
      "source": [
        "# 2.3 Busqueda de varios paquetes\n",
        "help.search(\"bs\")\n",
        "help(\"bs\", try.all.packages=TRUE)"
      ],
      "metadata": {
        "id": "8U1uQmjj2_Ms"
      },
      "execution_count": null,
      "outputs": []
    },
    {
      "cell_type": "markdown",
      "source": [
        "## II. Variables, Asignaciones y Tipo de Datos"
      ],
      "metadata": {
        "id": "906cbeoy3EZI"
      }
    },
    {
      "cell_type": "markdown",
      "source": [
        "1. Calculos aritméticos con R\n"
      ],
      "metadata": {
        "id": "4Vy_42-M35cw"
      }
    },
    {
      "cell_type": "code",
      "source": [
        "15 + 5"
      ],
      "metadata": {
        "colab": {
          "base_uri": "https://localhost:8080/",
          "height": 34
        },
        "id": "RzNKtvps3r6x",
        "outputId": "90c0b450-9444-4096-d0fb-a5233e198f8c"
      },
      "execution_count": null,
      "outputs": [
        {
          "output_type": "display_data",
          "data": {
            "text/html": [
              "20"
            ],
            "text/markdown": "20",
            "text/latex": "20",
            "text/plain": [
              "[1] 20"
            ]
          },
          "metadata": {}
        }
      ]
    },
    {
      "cell_type": "code",
      "source": [
        "20 - 8"
      ],
      "metadata": {
        "id": "xMfzpf6t3vOT"
      },
      "execution_count": null,
      "outputs": []
    },
    {
      "cell_type": "code",
      "source": [
        "30 * 6"
      ],
      "metadata": {
        "id": "N9VfKb8x3v9i"
      },
      "execution_count": null,
      "outputs": []
    },
    {
      "cell_type": "code",
      "source": [
        "80 / 5"
      ],
      "metadata": {
        "id": "OukJluDO3w_V"
      },
      "execution_count": null,
      "outputs": []
    },
    {
      "cell_type": "code",
      "source": [
        "40 ^ 2"
      ],
      "metadata": {
        "id": "M0yEMG7L3xzk"
      },
      "execution_count": null,
      "outputs": []
    },
    {
      "cell_type": "code",
      "source": [
        "50 %% 3"
      ],
      "metadata": {
        "id": "23wIxyWT3yv_"
      },
      "execution_count": null,
      "outputs": []
    },
    {
      "cell_type": "code",
      "source": [
        "# Al no asignar podemos obtener el resultado de una operación sin que quede guardado en la memoria"
      ],
      "metadata": {
        "id": "0oZYN_vw32Hv"
      },
      "execution_count": null,
      "outputs": []
    },
    {
      "cell_type": "markdown",
      "source": [
        "2. Asignaciones a variables"
      ],
      "metadata": {
        "id": "S6mKetrY4-u-"
      }
    },
    {
      "cell_type": "code",
      "source": [
        "y <- 15 + 5\n",
        "y\n",
        "y <- 5\n",
        "y\n",
        "nota <- 18\n",
        "nota\n",
        "print(nota)"
      ],
      "metadata": {
        "id": "t17BF-Li48pQ"
      },
      "execution_count": null,
      "outputs": []
    },
    {
      "cell_type": "markdown",
      "source": [
        "3. Distinción entre mayusculas y minusculas\n"
      ],
      "metadata": {
        "id": "71c0Oo4J5AnY"
      }
    },
    {
      "cell_type": "code",
      "source": [
        "x <- 36\n",
        "X <- 6\n",
        "x\n",
        "X"
      ],
      "metadata": {
        "id": "fpoWJiNB49zB"
      },
      "execution_count": null,
      "outputs": []
    },
    {
      "cell_type": "markdown",
      "source": [
        "4. Operaciones"
      ],
      "metadata": {
        "id": "foL5RpQJ5IR6"
      }
    },
    {
      "cell_type": "code",
      "source": [
        "examen_1 <- 10\n",
        "examen_2 <- 6\n",
        "final <- (examen_1 + examen_2)/2\n",
        "final\n",
        "\n",
        "# Puede ser usado para otras funciones\n",
        "sqrt(x)"
      ],
      "metadata": {
        "id": "qy36hLiO5K5I"
      },
      "execution_count": null,
      "outputs": []
    },
    {
      "cell_type": "markdown",
      "source": [
        "5. Para borrar objetos de la memoria función rm()\n"
      ],
      "metadata": {
        "id": "bPDgOy9F5MmK"
      }
    },
    {
      "cell_type": "code",
      "source": [
        "#Borra selectivamente al elemento x\n",
        "rm(x)"
      ],
      "metadata": {
        "id": "yMcowVeb5Oxy"
      },
      "execution_count": null,
      "outputs": []
    },
    {
      "cell_type": "markdown",
      "source": [
        "6. Borrar todos los elementos almacenados en la memoria"
      ],
      "metadata": {
        "id": "Urq1iY335SG8"
      }
    },
    {
      "cell_type": "code",
      "source": [
        "rm(list=ls())\n",
        "rm(list = ls(all = TRUE))"
      ],
      "metadata": {
        "id": "y7l6l2JT5VRE"
      },
      "execution_count": null,
      "outputs": []
    },
    {
      "cell_type": "markdown",
      "source": [
        "7. Tipo de Datos en R\n"
      ],
      "metadata": {
        "id": "OHOwy_hC5kAI"
      }
    },
    {
      "cell_type": "code",
      "source": [
        "# a. Numerico\n",
        "my_numeric <- 42"
      ],
      "metadata": {
        "id": "jMQh1kT05mP0"
      },
      "execution_count": null,
      "outputs": []
    },
    {
      "cell_type": "code",
      "source": [
        "# b. Caracter\n",
        "my_character <- \"Introducción\""
      ],
      "metadata": {
        "id": "VdhUErwt5nN1"
      },
      "execution_count": null,
      "outputs": []
    },
    {
      "cell_type": "code",
      "source": [
        "# c. Lógico\n",
        "my_logical <- FALSE"
      ],
      "metadata": {
        "id": "LnvTn-vI5oWO"
      },
      "execution_count": null,
      "outputs": []
    },
    {
      "cell_type": "markdown",
      "source": [
        "9. Clase de Tipos de Datos\n"
      ],
      "metadata": {
        "id": "vMPlMIwB5qXD"
      }
    },
    {
      "cell_type": "code",
      "source": [
        "class(my_numeric)\n",
        "class(my_character)\n",
        "class(my_logical)"
      ],
      "metadata": {
        "id": "9_GvP9gI3Isu"
      },
      "execution_count": null,
      "outputs": []
    },
    {
      "cell_type": "markdown",
      "source": [
        "Ejemplo:\n"
      ],
      "metadata": {
        "id": "N-I-1riA5wzo"
      }
    },
    {
      "cell_type": "code",
      "source": [
        "# Caracteres\n",
        "character(8)"
      ],
      "metadata": {
        "id": "6gq7RLW95vEH"
      },
      "execution_count": null,
      "outputs": []
    },
    {
      "cell_type": "code",
      "source": [
        "# Conversion\n",
        "as.character(\"8\")"
      ],
      "metadata": {
        "id": "w98YNxba50sv"
      },
      "execution_count": null,
      "outputs": []
    },
    {
      "cell_type": "code",
      "source": [
        "# Tests\n",
        "is.character(8) \n",
        "is.character(\"8\")"
      ],
      "metadata": {
        "id": "U5yuql-W52E-"
      },
      "execution_count": null,
      "outputs": []
    },
    {
      "cell_type": "markdown",
      "source": [
        "# III. Vectores"
      ],
      "metadata": {
        "id": "jxL75iIK82En"
      }
    },
    {
      "cell_type": "markdown",
      "source": [
        "## 1. Asignación de Vectores"
      ],
      "metadata": {
        "id": "zUWju_7u9CEr"
      }
    },
    {
      "cell_type": "code",
      "source": [
        "numeric_vector   <- c(1, 10, 49)\n",
        "character_vector <- c(\"a\", \"b\", \"c\")"
      ],
      "metadata": {
        "id": "7CrJ9G8m9Aus"
      },
      "execution_count": null,
      "outputs": []
    },
    {
      "cell_type": "code",
      "source": [
        "# E1: Completa el codigo para boolean_vector con TRUE, FALSE, TRUE\n",
        "boolean_vector <-c()\n",
        "boolean_vector"
      ],
      "metadata": {
        "id": "5ZXpYagS9NiP"
      },
      "execution_count": null,
      "outputs": []
    },
    {
      "cell_type": "code",
      "source": [
        "# E2: Una empresa invierte en dos negocios en una semana teniendo como resultado:\n",
        "# Ingresos y Gastos de Lunes a Viernes en su primer negocio\n",
        "# Lunes ganas 900 soles\n",
        "# Martes ganas 1000 soles\n",
        "# Miercoles pierdes 500 soles\n",
        "# Jueves pierdes 100 soles\n",
        "# Viernes ganas 200 soles\n",
        "primer_vector <- c()"
      ],
      "metadata": {
        "id": "JV2rJt-f9O94"
      },
      "execution_count": null,
      "outputs": []
    },
    {
      "cell_type": "code",
      "source": [
        "# Ingresos y Gastos de Lunes a Viernes en su segundo negocio\n",
        "# Lunes ganas 3000 soles\n",
        "# Martes pierdes 5000 soles\n",
        "# Miercoles pierdes 850 soles\n",
        "# Jueves ganas 1400 soles\n",
        "# Viernes pierdes 900\n",
        "segundo_vector <-  c()"
      ],
      "metadata": {
        "id": "nY7X_BsY9Qb3"
      },
      "execution_count": null,
      "outputs": []
    },
    {
      "cell_type": "markdown",
      "source": [
        "## 2. Nombrando un Vector"
      ],
      "metadata": {
        "id": "8os90iCc992g"
      }
    },
    {
      "cell_type": "code",
      "source": [
        "# Asignando dias como nombres de primer_vector\n",
        "names(primer_vector) <- c(\"Lunes\", \"Martes\", \"Miercoles\", \"Jueves\", \"Viernes\")"
      ],
      "metadata": {
        "id": "nkqTRZKK9-t1"
      },
      "execution_count": null,
      "outputs": []
    },
    {
      "cell_type": "code",
      "source": [
        "# E3: Asignando dias como nombres de segundo_vector\n",
        "names(segundo_vector) <- c()"
      ],
      "metadata": {
        "id": "8fsNLHe_-hCb"
      },
      "execution_count": null,
      "outputs": []
    },
    {
      "cell_type": "code",
      "source": [
        "# E4: \n",
        "# Otra manera es creando los vectores de los d?as\n",
        "dias_vector <- c(\"Lunes\", \"Martes\", \"Miercoles\", \"Jueves\", \"Viernes\")"
      ],
      "metadata": {
        "id": "UdBHHBcm-iu1"
      },
      "execution_count": null,
      "outputs": []
    },
    {
      "cell_type": "code",
      "source": [
        "# Asignar los nombres de los dÍas a primer y segundo vector\n",
        "names(primer_vector)    <- \n",
        "names(segundo_vector)   <- "
      ],
      "metadata": {
        "id": "AbDytauS-j4c"
      },
      "execution_count": null,
      "outputs": []
    },
    {
      "cell_type": "markdown",
      "source": [
        "## 3. Cálculos a través de Vectores\n"
      ],
      "metadata": {
        "id": "0rZBji6a-osu"
      }
    },
    {
      "cell_type": "code",
      "source": [
        "A_vector <- c(1, 2, 3)\n",
        "B_vector <- c(4, 5, 6)\n",
        "\n",
        "# Realizar la suma de los vectores\n",
        "total_vector <- A_vector+ B_vector\n",
        "\n",
        "# Mostrar la suma total\n",
        "print(total_vector)"
      ],
      "metadata": {
        "id": "lc04v6Hs-oRQ"
      },
      "execution_count": null,
      "outputs": []
    },
    {
      "cell_type": "code",
      "source": [
        "# E1: Asignar a dia_total cuanto tu ganaste o perdiste en cada día\n",
        "total_dia <- \n",
        "total_dia"
      ],
      "metadata": {
        "id": "Mks9ZaZD-uIp"
      },
      "execution_count": null,
      "outputs": []
    },
    {
      "cell_type": "code",
      "source": [
        "# E2: Beneficio total de los 5 d?as\n",
        "total_semana <- sum(total_dia)\n",
        "total_semana"
      ],
      "metadata": {
        "id": "_--ZPhOf-v55"
      },
      "execution_count": null,
      "outputs": []
    },
    {
      "cell_type": "markdown",
      "source": [
        "## 4. Comparando Vectores"
      ],
      "metadata": {
        "id": "jJgC3BcX-1eb"
      }
    },
    {
      "cell_type": "code",
      "source": [
        "total_primero <- sum(primer_vector)\n",
        "total_segundo <- sum(segundo_vector)\n",
        "total_primero > total_segundo"
      ],
      "metadata": {
        "id": "28j139Rf-0-L"
      },
      "execution_count": null,
      "outputs": []
    },
    {
      "cell_type": "markdown",
      "source": [
        "## 5. Selección de Vector"
      ],
      "metadata": {
        "id": "mFx-qulN-8et"
      }
    },
    {
      "cell_type": "code",
      "source": [
        "dia_jueves <- primer_vector[\"Jueves\"]\n",
        "dia_jueves"
      ],
      "metadata": {
        "id": "Xs04Wv7W-8-R"
      },
      "execution_count": null,
      "outputs": []
    },
    {
      "cell_type": "code",
      "source": [
        "# E1: Seleccionar los días Martes, Miércoles y Jueves del primer vector\n",
        "tres_dias <- primer_vector[c(\"Martes\", \"Miercoles\", \"Jueves\")]"
      ],
      "metadata": {
        "id": "bQmxozWx_C0l"
      },
      "execution_count": null,
      "outputs": []
    },
    {
      "cell_type": "code",
      "source": [
        "# E2: Seleccionar desde el segundo elemento hasta el quinto elemento\n",
        "cuatro_dias <- primer_vector[2:5]\n",
        "cuatro_dias"
      ],
      "metadata": {
        "id": "r8caZ2oo_ETE"
      },
      "execution_count": null,
      "outputs": []
    },
    {
      "cell_type": "code",
      "source": [
        "# E3: ¿Qué días ganas en el primer negocio?\n",
        "selection_vector <- primer_vector > 0\n",
        "selection_vector"
      ],
      "metadata": {
        "id": "veehRTCd_Fy8"
      },
      "execution_count": null,
      "outputs": []
    },
    {
      "cell_type": "markdown",
      "source": [
        "# IV. Matrices"
      ],
      "metadata": {
        "id": "FCeZ9VHE_P0C"
      }
    },
    {
      "cell_type": "markdown",
      "source": [
        "## 1. Contruir una matriz con 3 filas que contiene los números del 1 al 9\n"
      ],
      "metadata": {
        "id": "N8UIgYqo_Wsd"
      }
    },
    {
      "cell_type": "code",
      "source": [
        "matrix(1:9, byrow = TRUE, nrow = 3)"
      ],
      "metadata": {
        "id": "Y6jhNtAQ_TDu"
      },
      "execution_count": null,
      "outputs": []
    },
    {
      "cell_type": "markdown",
      "source": [
        "## 2. Analizando matrices\n"
      ],
      "metadata": {
        "id": "Z_Q4bGXI_Zha"
      }
    },
    {
      "cell_type": "code",
      "source": [
        "# En los siguientes vectores tu tienes los ingresos de los economistas de la Pacifico, Catolica y UPC antes y despues de los 25 años\n",
        "pacifico <- c(5940, 7200)\n",
        "catolica <- c(5183, 8500)\n",
        "upc      <- c(5036, 6300)"
      ],
      "metadata": {
        "id": "mW3Z7Q9x_VYd"
      },
      "execution_count": null,
      "outputs": []
    },
    {
      "cell_type": "code",
      "source": [
        "# E1: Crea el vector de ingresos\n",
        "ingresos <- c()\n",
        "ingresos"
      ],
      "metadata": {
        "id": "-r14Lyu7_dXc"
      },
      "execution_count": null,
      "outputs": []
    },
    {
      "cell_type": "code",
      "source": [
        "# E2: Construye la matriz ingreso_univ con 3 filas, donde cada fila represente una universidad\n",
        "ingreso_univ <- matrix(ingresos, nrow=3, byrow=TRUE)\n",
        "ingreso_univ"
      ],
      "metadata": {
        "id": "7ETb0YTs_fy0"
      },
      "execution_count": null,
      "outputs": []
    },
    {
      "cell_type": "code",
      "source": [
        "# Tenemos los vectores de universidades y edades\n",
        "edades <- c(\"Menor a 25 años\", \"Mayor a 25 años\")\n",
        "universidades <- c(\"Pacifico\", \"Catolica\", \"UPC\")"
      ],
      "metadata": {
        "id": "MKICphgDAKsW"
      },
      "execution_count": null,
      "outputs": []
    },
    {
      "cell_type": "code",
      "source": [
        "# E3: Nombrar las columnas con el vector \"edades\"\n",
        "colnames(ingreso_univ) <- "
      ],
      "metadata": {
        "id": "O7hNcbXqAThM"
      },
      "execution_count": null,
      "outputs": []
    },
    {
      "cell_type": "code",
      "source": [
        "# E4: Nombrar las filas con el vector \"univeridades\"\n",
        "rownames(ingreso_univ) <-\n",
        "\n",
        "# Mostrar la matriz\n",
        "print(ingreso_univ)"
      ],
      "metadata": {
        "id": "2Pd0srHMAX6R"
      },
      "execution_count": null,
      "outputs": []
    },
    {
      "cell_type": "code",
      "source": [
        "# E5: Calcular la suma por filas\n",
        "suma_ingreso <- rowSums(ingreso_univ)\n",
        "suma_ingreso"
      ],
      "metadata": {
        "id": "SHCU3CVHAViJ"
      },
      "execution_count": null,
      "outputs": []
    },
    {
      "cell_type": "code",
      "source": [
        "# E6: Agrega el vector de suma_ingreso a la matriz ingreso_univ\n",
        "all_matrix <- cbind()\n",
        "all_matrix"
      ],
      "metadata": {
        "id": "bw2AM7ahAbRJ"
      },
      "execution_count": null,
      "outputs": []
    },
    {
      "cell_type": "code",
      "source": [
        "# E7: Agrega el vector de Universidad de Lima a la matriz ingreso_univ\n",
        "lima_univ <- c(5015, 7000)\n",
        "all_matrix <- rbind(ingreso_univ, lima_univ)\n",
        "all_matrix"
      ],
      "metadata": {
        "id": "Fv0b8IGZAce_"
      },
      "execution_count": null,
      "outputs": []
    },
    {
      "cell_type": "code",
      "source": [
        "# E8: Multiplica all_matrix * 12 para calcular el ingreso anual y asignala a ingreso_anual\n",
        "ingreso_anual <- \n",
        "ingreso_anual"
      ],
      "metadata": {
        "id": "O1Eq_vzAAeeI"
      },
      "execution_count": null,
      "outputs": []
    },
    {
      "cell_type": "code",
      "source": [
        "# Calcular promedio de columnas\n",
        "colMeans(ingreso_anual)"
      ],
      "metadata": {
        "id": "V9ldaTlzA4IA"
      },
      "execution_count": null,
      "outputs": []
    },
    {
      "cell_type": "code",
      "source": [
        "# Elegir la diagonal principal\n",
        "diag(all_matrix)"
      ],
      "metadata": {
        "id": "_0L8WrlSA5tP"
      },
      "execution_count": null,
      "outputs": []
    },
    {
      "cell_type": "code",
      "source": [
        "# Matriz inversa\n",
        "solve(all_matrix)"
      ],
      "metadata": {
        "id": "Stj5mrrTA61i"
      },
      "execution_count": null,
      "outputs": []
    },
    {
      "cell_type": "code",
      "source": [
        "# Herramienta para manejar el redondeo\n",
        "all_matrix %*% solve(all_matrix)\n",
        "zapsmall(all_matrix %*% solve(all_matrix))"
      ],
      "metadata": {
        "id": "LM3yJeTZA8N1"
      },
      "execution_count": null,
      "outputs": []
    },
    {
      "cell_type": "markdown",
      "source": [
        "## V. Factores "
      ],
      "metadata": {
        "id": "yWmh1BzkA-gm"
      }
    },
    {
      "cell_type": "markdown",
      "source": [
        "## 1. Variable Binaria\n"
      ],
      "metadata": {
        "id": "CAUMBXNKBUYl"
      }
    },
    {
      "cell_type": "code",
      "source": [
        "sexo_vector <- c(\"Hombre\", \"Mujer\", \"Mujer\", \"Hombre\", \"Hombre\")\n",
        "sexo_vector"
      ],
      "metadata": {
        "id": "_Bnt9Yd-BNva"
      },
      "execution_count": null,
      "outputs": []
    },
    {
      "cell_type": "code",
      "source": [
        "# Convertir sex_vector a un factor\n",
        "factor_sexo_vector <- factor(sexo_vector)"
      ],
      "metadata": {
        "id": "HQKPPs4pBPke"
      },
      "execution_count": null,
      "outputs": []
    },
    {
      "cell_type": "code",
      "source": [
        "# Mostrar factor_sex_vector\n",
        "print(factor_sexo_vector)"
      ],
      "metadata": {
        "id": "U2TYItLlBQym"
      },
      "execution_count": null,
      "outputs": []
    },
    {
      "cell_type": "markdown",
      "source": [
        "## 2. Variable Categórica: Nominal y Ordenadas\n"
      ],
      "metadata": {
        "id": "0UkqIgc9BY5Y"
      }
    },
    {
      "cell_type": "code",
      "source": [
        "# Variable Nominal\n",
        "animales_vector <- c(\"Elefante\", \"Jirafa\", \"Mono\", \"Caballo\")\n",
        "factor_animales_vector <- factor(animales_vector)\n",
        "factor_animales_vector"
      ],
      "metadata": {
        "id": "oeanVGL-BS2F"
      },
      "execution_count": null,
      "outputs": []
    },
    {
      "cell_type": "code",
      "source": [
        "# Variable Ordenada\n",
        "temperatura_vector <- c(\"Alta\", \"Baja\", \"Alta\", \"Baja\", \"Media\")\n",
        "factor_temperatura_vector <- factor(temperatura_vector, order = TRUE, levels = c(\"Baja\", \"Media\", \"Alta\"))\n",
        "factor_temperatura_vector  \n",
        "summary(factor_temperatura_vector)"
      ],
      "metadata": {
        "id": "d7jhKfvNBcRe"
      },
      "execution_count": null,
      "outputs": []
    },
    {
      "cell_type": "markdown",
      "source": [
        "# V. Leer datos desde archivos (EXCEL, STATA, SPSS)\n"
      ],
      "metadata": {
        "id": "BzSMK_vjB1Zd"
      }
    },
    {
      "cell_type": "markdown",
      "source": [
        "Stata"
      ],
      "metadata": {
        "id": "J5ioAEGQB-qg"
      }
    },
    {
      "cell_type": "code",
      "source": [
        "# Stata 12\n",
        "install.packages(\"foreign\")\n",
        "library(\"foreign\")\n",
        "base2017 <- read.dta(paste0(inputs, \"base_regresion_v12.dta\") , convert.factors = FALSE)\n",
        "\n",
        "# Stata 13 en adelante\n",
        "install.packages(\"readstata13\")\n",
        "library(readstata13)\n",
        "data <- read.dta13(paste0(inputs, \"base_empleo.dta\") , convert.factors = FALSE)\n",
        "summary(data)\n",
        "names(data)\n",
        "head(data)\n"
      ],
      "metadata": {
        "id": "o2omGoaQB6Gu"
      },
      "execution_count": null,
      "outputs": []
    },
    {
      "cell_type": "markdown",
      "source": [
        "SPSS"
      ],
      "metadata": {
        "id": "nJ0ueuOQDdkG"
      }
    },
    {
      "cell_type": "code",
      "source": [
        "base2017_spss = read.spss(paste0(inputs, \"base_regresion_spss.sav\"), to.data.frame=TRUE, use.value.labels=TRUE)\n",
        "names(base2017_spss)"
      ],
      "metadata": {
        "id": "kGvqlXbfDcyW"
      },
      "execution_count": null,
      "outputs": []
    },
    {
      "cell_type": "markdown",
      "source": [
        "## CSV\n"
      ],
      "metadata": {
        "id": "_7MowKf5DvQu"
      }
    },
    {
      "cell_type": "code",
      "source": [
        "base_csv<-read.csv(paste0(inputs, \"Venta Departamentos.csv\"), header=TRUE) "
      ],
      "metadata": {
        "id": "upQny7duDt6U"
      },
      "execution_count": null,
      "outputs": []
    },
    {
      "cell_type": "markdown",
      "source": [
        "## Excel \n"
      ],
      "metadata": {
        "id": "HKD4NnvdDhhd"
      }
    },
    {
      "cell_type": "code",
      "source": [
        "install.packages('readxl')\n",
        "library(readxl)"
      ],
      "metadata": {
        "id": "0e_HNbPEDrtg"
      },
      "execution_count": null,
      "outputs": []
    },
    {
      "cell_type": "code",
      "source": [
        "base2017_excel <- read_excel(paste0(inputs, \"base_excel.xlsX\"), sheet=1)\n",
        "head(base2017_excel,8)\n",
        "summary(base2017_excel)"
      ],
      "metadata": {
        "id": "eoHx4oHGFZR2"
      },
      "execution_count": null,
      "outputs": []
    },
    {
      "cell_type": "markdown",
      "source": [
        "# Exportar Datos"
      ],
      "metadata": {
        "id": "MUbFF7OQFmol"
      }
    },
    {
      "cell_type": "code",
      "source": [
        "rm(list = ls(all = TRUE))\n",
        "talla <- c(150, 156, 166, 175, 175)\n",
        "peso <- c(75, 70, 72, 80, 55)\n",
        "provincia <- c(\"Lima\", \"Trujillo\", \"Piura\", \"Chiclayo\", \"Amazonas\")\n",
        "datos <- as.data.frame(cbind(talla, peso, provincia))\n",
        "datos"
      ],
      "metadata": {
        "id": "UPt-bKjTFlH8"
      },
      "execution_count": null,
      "outputs": []
    },
    {
      "cell_type": "code",
      "source": [
        "write.table(datos, paste0(works, \"misdatos.txt\"), sep = \"\\t\", quote = F, row.names = F)"
      ],
      "metadata": {
        "id": "SJnl5vfIFrJG"
      },
      "execution_count": null,
      "outputs": []
    },
    {
      "cell_type": "markdown",
      "source": [
        "# VI. Data Frames\n"
      ],
      "metadata": {
        "id": "vEC_JUZoFxER"
      }
    },
    {
      "cell_type": "code",
      "source": [
        "# 1. Estructura de la base de datos\n",
        "head(base2017_excel)\n",
        "tail(base2017_excel)\n",
        "str(base2017_excel)"
      ],
      "metadata": {
        "id": "rRuDK8wNFz70"
      },
      "execution_count": null,
      "outputs": []
    },
    {
      "cell_type": "code",
      "source": [
        "# 2. Selección de la base de datos\n",
        "base2017_excel[2,3]\n",
        "base2017_excel[4,]\n",
        "base2017_excel[,4]\n",
        "base2017_excel[1:4, 3]\n",
        "base2017_excel[1:4, \"provincia\"]\n",
        "base2017_excel$provincia"
      ],
      "metadata": {
        "id": "Naum5hb9F2dD"
      },
      "execution_count": null,
      "outputs": []
    },
    {
      "cell_type": "code",
      "source": [
        "# 3. Subconjunto\n",
        "subset(base2017_excel, subset = provincia == \"Callao\")"
      ],
      "metadata": {
        "id": "wdWODstxF35Y"
      },
      "execution_count": null,
      "outputs": []
    },
    {
      "cell_type": "code",
      "source": [
        "# 4. Ordenamiento\n",
        "positions<-  order(base2017_excel$ing_fam_pc)\n",
        "base2017_excel[positions, ]"
      ],
      "metadata": {
        "id": "QWj46li-F57x"
      },
      "execution_count": null,
      "outputs": []
    },
    {
      "cell_type": "markdown",
      "source": [
        "# VII. Listas\n"
      ],
      "metadata": {
        "id": "T21cQ2suF-eN"
      }
    },
    {
      "cell_type": "markdown",
      "source": [
        "## 1. Creando Listas\n"
      ],
      "metadata": {
        "id": "EgWm0B28GG3m"
      }
    },
    {
      "cell_type": "code",
      "source": [
        "# Vector con números del 1 al 10\n",
        "my_vector <- 1:10 \n",
        "\n",
        "# Matriz con números del 1 al 9\n",
        "my_matrix <- matrix(1:9, ncol = 3)\n",
        "\n",
        "# Primeros 10 elementos del data frame base2017_excel\n",
        "my_df <- base2017_excel[1:10,]\n",
        "\n",
        "# Adapta list() para nombrar a los componentes\n",
        "my_list <- list(vec=my_vector, mat=my_matrix, df=my_df)\n",
        "\n",
        "# Mostrar my_list\n",
        "my_list"
      ],
      "metadata": {
        "id": "h28Rdz0lGCtV"
      },
      "execution_count": null,
      "outputs": []
    },
    {
      "cell_type": "markdown",
      "source": [
        "## 2. Seleccionando elementos de una lista\n"
      ],
      "metadata": {
        "id": "RhWWydp7GJaL"
      }
    },
    {
      "cell_type": "code",
      "source": [
        "my_list$df\n",
        "my_list$df[[\"zona\"]]"
      ],
      "metadata": {
        "id": "v2L84Rc0GES2"
      },
      "execution_count": null,
      "outputs": []
    },
    {
      "cell_type": "markdown",
      "source": [
        "## 3. Agregando información a la lista\n"
      ],
      "metadata": {
        "id": "Pm1-cmm0GLt8"
      }
    },
    {
      "cell_type": "code",
      "source": [
        "my_list_full <- c(my_list, year=2017)\n",
        "str(my_list_full)"
      ],
      "metadata": {
        "id": "BIBoPRhyF9Yg"
      },
      "execution_count": null,
      "outputs": []
    }
  ]
}